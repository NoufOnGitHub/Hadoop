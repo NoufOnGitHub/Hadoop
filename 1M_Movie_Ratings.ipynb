{
  "nbformat": 4,
  "nbformat_minor": 0,
  "metadata": {
    "colab": {
      "provenance": []
    },
    "kernelspec": {
      "name": "python3",
      "display_name": "Python 3"
    },
    "language_info": {
      "name": "python"
    }
  },
  "cells": [
    {
      "cell_type": "code",
      "source": [
        "# Install mrjob library. This package is for running MapReduce jobs with Python\n",
        "!pip install mrjob"
      ],
      "metadata": {
        "colab": {
          "base_uri": "https://localhost:8080/"
        },
        "id": "yyh0Pim1fLMN",
        "outputId": "f17eef68-bc2b-46a1-e84e-292f293913b5"
      },
      "execution_count": 2,
      "outputs": [
        {
          "output_type": "stream",
          "name": "stdout",
          "text": [
            "Looking in indexes: https://pypi.org/simple, https://us-python.pkg.dev/colab-wheels/public/simple/\n",
            "Collecting mrjob\n",
            "  Downloading mrjob-0.7.4-py2.py3-none-any.whl (439 kB)\n",
            "\u001b[K     |████████████████████████████████| 439 kB 8.3 MB/s \n",
            "\u001b[?25hRequirement already satisfied: PyYAML>=3.10 in /usr/local/lib/python3.7/dist-packages (from mrjob) (6.0)\n",
            "Installing collected packages: mrjob\n",
            "Successfully installed mrjob-0.7.4\n"
          ]
        }
      ]
    },
    {
      "cell_type": "code",
      "execution_count": 9,
      "metadata": {
        "colab": {
          "base_uri": "https://localhost:8080/"
        },
        "id": "piK8YefaewQ6",
        "outputId": "c9b2e3ed-ce86-42d5-ff7f-79408a8740fc"
      },
      "outputs": [
        {
          "output_type": "stream",
          "name": "stdout",
          "text": [
            "Overwriting RatingsBreakdown.py\n"
          ]
        }
      ],
      "source": [
        "%%file RatingsBreakdown.py\n",
        "from mrjob.job import MRJob\n",
        "from mrjob.job import MRStep\n",
        "\n",
        "class RatingsBreakdown(MRJob):\n",
        "\n",
        "    def steps(self):\n",
        "        return [\n",
        "            MRStep(mapper=self.mapper_get_ratings,\n",
        "            reducer=self.reducer_count_ratings)\n",
        "    ]\n",
        "# note that the splitting is now changed to '::' instead of '\\t' because data is now seperated by :: in the new file.\n",
        "    def mapper_get_ratings(self, _, line):\n",
        "      (userID, movieID, rating, timestamp) = line.split('::')\n",
        "      yield rating, 1\n",
        "\n",
        "    def reducer_count_ratings(self, key, values):\n",
        "      yield key, sum(values)\n",
        "\n",
        "if __name__ == '__main__':\n",
        "    RatingsBreakdown.run()"
      ]
    },
    {
      "cell_type": "code",
      "source": [
        "# run the code as a terminal command\n",
        "!python RatingsBreakdown.py ratings.dat"
      ],
      "metadata": {
        "colab": {
          "base_uri": "https://localhost:8080/"
        },
        "id": "MUejkrWSfdQ6",
        "outputId": "1cb4f01d-6f14-4b11-8177-455a6d3a133c"
      },
      "execution_count": 10,
      "outputs": [
        {
          "output_type": "stream",
          "name": "stdout",
          "text": [
            "No configs found; falling back on auto-configuration\n",
            "No configs specified for inline runner\n",
            "Creating temp directory /tmp/RatingsBreakdown.root.20221125.212650.962982\n",
            "Running step 1 of 1...\n",
            "job output is in /tmp/RatingsBreakdown.root.20221125.212650.962982/output\n",
            "Streaming final output from /tmp/RatingsBreakdown.root.20221125.212650.962982/output...\n",
            "\"4\"\t348971\n",
            "\"5\"\t226310\n",
            "\"1\"\t56174\n",
            "\"2\"\t107557\n",
            "\"3\"\t261197\n",
            "Removing temp directory /tmp/RatingsBreakdown.root.20221125.212650.962982...\n"
          ]
        }
      ]
    }
  ]
}